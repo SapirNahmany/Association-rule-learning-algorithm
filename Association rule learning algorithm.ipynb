{
 "cells": [
  {
   "cell_type": "code",
   "execution_count": 1,
   "metadata": {},
   "outputs": [
    {
     "data": {
      "text/html": [
       "\n",
       "        <div>\n",
       "            <p><b>SparkContext</b></p>\n",
       "\n",
       "            <p><a href=\"http://10.0.0.14:4045\">Spark UI</a></p>\n",
       "\n",
       "            <dl>\n",
       "              <dt>Version</dt>\n",
       "                <dd><code>v3.0.0-preview2</code></dd>\n",
       "              <dt>Master</dt>\n",
       "                <dd><code>local[*]</code></dd>\n",
       "              <dt>AppName</dt>\n",
       "                <dd><code>PySparkShell</code></dd>\n",
       "            </dl>\n",
       "        </div>\n",
       "        "
      ],
      "text/plain": [
       "<SparkContext master=local[*] appName=PySparkShell>"
      ]
     },
     "execution_count": 1,
     "metadata": {},
     "output_type": "execute_result"
    }
   ],
   "source": [
    "sc"
   ]
  },
  {
   "cell_type": "code",
   "execution_count": 2,
   "metadata": {},
   "outputs": [],
   "source": [
    "rdd=sc.textFile(\"user-ct-test-collection-01.txt\") ## it is RDD \n",
    "import string\n",
    "rdd=sc.textFile(\"user-ct-test-collection-01.txt\").map(lambda x: ','.join([''.join(e for e in y if e in string.printable).strip('\\\"') for y in x.split(',')]))"
   ]
  },
  {
   "cell_type": "code",
   "execution_count": 3,
   "metadata": {},
   "outputs": [],
   "source": [
    "RDD=rdd.map(lambda x: x.replace(\"\\t\",\",\")).map(lambda x: x.split(\",\"))"
   ]
  },
  {
   "cell_type": "code",
   "execution_count": 4,
   "metadata": {},
   "outputs": [],
   "source": [
    "TestRDD=RDD.map(lambda t: [t[0],t[1].replace(\"www.\", \"\").replace(\"ww.\", \"\"),t[2]\\\n",
    "                           .replace(\"-\", \"\").replace(\" \", \"\").replace(\":\", \"\"),t[3],t[4]])"
   ]
  },
  {
   "cell_type": "code",
   "execution_count": 5,
   "metadata": {},
   "outputs": [],
   "source": [
    "TestRDD=TestRDD.filter(lambda x: len(x[1])>1)"
   ]
  },
  {
   "cell_type": "code",
   "execution_count": 6,
   "metadata": {},
   "outputs": [],
   "source": [
    "TestRDD2=TestRDD.filter(lambda t: \"AnonID\" not in t[0])"
   ]
  },
  {
   "cell_type": "code",
   "execution_count": 7,
   "metadata": {},
   "outputs": [],
   "source": [
    "TestRDD3=TestRDD2.map(lambda t: [str(t[0]),str(t[1]),int(t[2])/10000,str(t[3]),str(t[4])])"
   ]
  },
  {
   "cell_type": "code",
   "execution_count": 8,
   "metadata": {},
   "outputs": [],
   "source": [
    "RddNotClickedFiltered=TestRDD3.filter(lambda t: t[3]==\"1\" or t[3]==\"2\"or t[3]==\"3\")\n"
   ]
  },
  {
   "cell_type": "code",
   "execution_count": 9,
   "metadata": {},
   "outputs": [],
   "source": [
    "TestRddFinel=RddNotClickedFiltered.map(lambda n: [str(int(n[0])*10000000000+n[2]),n[1],n[3],n[4]])\n"
   ]
  },
  {
   "cell_type": "code",
   "execution_count": 10,
   "metadata": {},
   "outputs": [],
   "source": [
    "#--------------------------------------------------------------------------------------"
   ]
  },
  {
   "cell_type": "code",
   "execution_count": 11,
   "metadata": {},
   "outputs": [
    {
     "data": {
      "text/plain": [
       "647932"
      ]
     },
     "execution_count": 11,
     "metadata": {},
     "output_type": "execute_result"
    }
   ],
   "source": [
    "#Count the number of transactions\n",
    "NumberOfT=TestRddFinel.map(lambda n:  (n[0]))\n",
    "TransactionIds=NumberOfT.distinct()\n",
    "NumOfTransactionIds=TransactionIds.count()\n",
    "NumOfTransactionIds # No. Transaction ID"
   ]
  },
  {
   "cell_type": "code",
   "execution_count": 12,
   "metadata": {},
   "outputs": [],
   "source": [
    "TidAndSearch=TestRddFinel.map(lambda n: (n[1],n[0])).groupByKey()\n",
    "#[(X,X->list)()()...]\n",
    "TidAndSearch=TidAndSearch.filter(lambda x: len(x[1])>10)"
   ]
  },
  {
   "cell_type": "code",
   "execution_count": 13,
   "metadata": {},
   "outputs": [
    {
     "data": {
      "text/plain": [
       "[['1422006032003', 'westchester.gov', '1', 'http://www.westchestergov.com']]"
      ]
     },
     "execution_count": 13,
     "metadata": {},
     "output_type": "execute_result"
    }
   ],
   "source": [
    "TestRddFinel.take(1)"
   ]
  },
  {
   "cell_type": "code",
   "execution_count": 14,
   "metadata": {},
   "outputs": [],
   "source": [
    "#----------------------------------------------------------------"
   ]
  },
  {
   "cell_type": "markdown",
   "metadata": {},
   "source": [
    "# -------------------------for explantion----------------------------"
   ]
  },
  {
   "cell_type": "markdown",
   "metadata": {},
   "source": [
    "TidAndSearchSumT=TidAndSearch.map(lambda row:(row[0],len(row[1])))"
   ]
  },
  {
   "cell_type": "markdown",
   "metadata": {},
   "source": [
    "TidAndSearchDalution = TidAndSearchSumT.filter(lambda n: n[1]>10)\n",
    "#Filter the uncommon searches (X, XCount)"
   ]
  },
  {
   "cell_type": "markdown",
   "metadata": {},
   "source": [
    "SupX = TidAndSearchDalution.map(lambda row: (row[0],float(float(row[1])/10)))"
   ]
  },
  {
   "cell_type": "markdown",
   "metadata": {},
   "source": [
    "# Sup(x)= Xcount/NumOfTransactionIds"
   ]
  },
  {
   "cell_type": "markdown",
   "metadata": {},
   "source": [
    "# ---------------------------------------------------------------------"
   ]
  },
  {
   "cell_type": "code",
   "execution_count": 15,
   "metadata": {},
   "outputs": [],
   "source": [
    "CartSW=TidAndSearch.cartesian(TidAndSearch)# !problem ((x,list),(x,list))"
   ]
  },
  {
   "cell_type": "code",
   "execution_count": 16,
   "metadata": {},
   "outputs": [
    {
     "data": {
      "text/plain": [
       "[(('rheumatoid arthritis',\n",
       "   <pyspark.resultiterable.ResultIterable at 0x7f6fa18e7290>),\n",
       "  ('rheumatoid arthritis',\n",
       "   <pyspark.resultiterable.ResultIterable at 0x7f6fa18d8350>))]"
      ]
     },
     "execution_count": 16,
     "metadata": {},
     "output_type": "execute_result"
    }
   ],
   "source": [
    "CartSW.take(1)"
   ]
  },
  {
   "cell_type": "code",
   "execution_count": 17,
   "metadata": {},
   "outputs": [
    {
     "data": {
      "text/plain": [
       "[(('rheumatoid arthritis',\n",
       "   <pyspark.resultiterable.ResultIterable at 0x7f6fa18e7090>),\n",
       "  ('daytona beach cam',\n",
       "   <pyspark.resultiterable.ResultIterable at 0x7f6fa18ed190>))]"
      ]
     },
     "execution_count": 17,
     "metadata": {},
     "output_type": "execute_result"
    }
   ],
   "source": [
    "CartSWFilter=CartSW.filter(lambda word: word[0][0] != word[1][0]) # ((x,list),(y,list))\n",
    "CartSWFilter.take(1)"
   ]
  },
  {
   "cell_type": "code",
   "execution_count": 18,
   "metadata": {},
   "outputs": [],
   "source": [
    "CartSWListIntersection=CartSWFilter\\\n",
    ".map(lambda word: (word[0][0],len(word[0][1]),word[1][0],list(set(word[1][1]) & set(word[0][1])) ) )\n",
    "# ( X, CountX, Y, COUNT(XUY))\n",
    "CartSWListIntersection=CartSWListIntersection.filter(lambda x: len(x[3])>1)\n",
    "CartInListSizeIntersection=CartSWListIntersection.map(lambda x: (x[0],x[1],x[2],len(x[3])))"
   ]
  },
  {
   "cell_type": "markdown",
   "metadata": {},
   "source": [
    "# -------------------------for explantion----------------------------"
   ]
  },
  {
   "cell_type": "markdown",
   "metadata": {},
   "source": [
    "XinYCount = CartInListSizeIntersection.map(lambda row: (row[0],row[2],row[3]))"
   ]
  },
  {
   "cell_type": "markdown",
   "metadata": {},
   "source": [
    "SupXinY = XinYCount.map(lambda row: (row[0],row[1],float(float(row[2])/NumOfTransactionIds)))"
   ]
  },
  {
   "cell_type": "markdown",
   "metadata": {},
   "source": [
    "#The Dup of (X,Y) and (Y,X) Doesnt effect us"
   ]
  },
  {
   "cell_type": "markdown",
   "metadata": {},
   "source": [
    "# SUP(XUY)= (X,Y,P(Ex/\\Ey))\n",
    "# P(Ex/\\Ey)=> (len(List(X/\\Y)))/NumOfTransactionIds"
   ]
  },
  {
   "cell_type": "markdown",
   "metadata": {},
   "source": [
    "# -------------------------------------------------------------------"
   ]
  },
  {
   "cell_type": "code",
   "execution_count": 19,
   "metadata": {},
   "outputs": [],
   "source": [
    "#Function CartSWListIntersection [(X, XCount, Y, XUYCount)] => SupXinYComparedToSupX "
   ]
  },
  {
   "cell_type": "code",
   "execution_count": 20,
   "metadata": {},
   "outputs": [],
   "source": [
    "ConfidenceXY=CartInListSizeIntersection\\\n",
    ".map(lambda row:(row[0],row[2],float(row[3])/float(row[1])))"
   ]
  },
  {
   "cell_type": "markdown",
   "metadata": {},
   "source": [
    "ConfidenceXY=CartSWListWithShardTid\\\n",
    ".map(lambda row: \n",
    "(row[0],row[2],float(float(float(row[3])/NumOfTransactionIds)/float(float(row[1])/NumOfTransactionIds))))"
   ]
  },
  {
   "cell_type": "raw",
   "metadata": {},
   "source": [
    "#                       (X/\\Y)Count \n",
    "#                     -----------------   \n",
    "# SUP(XUY)                TCount             (X/\\Y)Count *TCount               (X/\\Y)Count\n",
    "# --------------- = --------------------= ------------------------------=  -----------------\n",
    "#   SUP(X)                XCount               XCount*TCount                     XCount\n",
    "#                     ---------------\n",
    "#                          TCount\n",
    "#"
   ]
  },
  {
   "cell_type": "code",
   "execution_count": 21,
   "metadata": {},
   "outputs": [
    {
     "data": {
      "text/plain": [
       "[('answers .com', 'find a grave', 0.6226415094339622),\n",
       " ('monex', 'cnn', 0.6666666666666666),\n",
       " ('monex', 'kitco', 0.9333333333333333),\n",
       " ('owens corning stock quote', 'ciena stock quote', 0.6875),\n",
       " ('wheaton webmail', 'facebook', 0.7692307692307693),\n",
       " ('godwin jewelers bainbridge georgia',\n",
       "  'bainbridge georgia news',\n",
       "  0.7142857142857143),\n",
       " ('first choice cu', 'ebay', 0.6956521739130435),\n",
       " (\"ain't it cool\", 'dark horizons', 0.6621621621621622),\n",
       " ('the birmingham news', 'the decatur daily', 0.6029411764705882),\n",
       " ('pierpoint landing', 'free republic', 0.9090909090909091)]"
      ]
     },
     "execution_count": 21,
     "metadata": {},
     "output_type": "execute_result"
    }
   ],
   "source": [
    "ConfidenceXYMore06 = ConfidenceXY.filter(lambda row: row[2] > 0.6)\n",
    "ConfidenceXYMore06.take(10)"
   ]
  },
  {
   "cell_type": "code",
   "execution_count": 22,
   "metadata": {},
   "outputs": [
    {
     "data": {
      "text/plain": [
       "[('monex', 'kitco', 0.9333333333333333),\n",
       " ('pierpoint landing', 'free republic', 0.9090909090909091),\n",
       " ('cnn world headlines', 'international herald tribune', 0.9090909090909091),\n",
       " ('somerset daily american', 'johnstown tribune-democrat', 0.85),\n",
       " ('planters bank', 'suntrust bank', 1.0),\n",
       " ('bobhaworth', 'nycsubway', 0.9322033898305084),\n",
       " ('indiana gazette', 'johnstown tribune-democrat', 0.8461538461538461),\n",
       " ('the richmond times dispatch', 'the news virginian', 0.8095238095238095),\n",
       " ('the richmond times dispatch', 'the daily news leader', 0.8690476190476191),\n",
       " ('bobhaworth', 'kingstontrioplace', 0.847457627118644)]"
      ]
     },
     "execution_count": 22,
     "metadata": {},
     "output_type": "execute_result"
    }
   ],
   "source": [
    "ConfidenceXYMore08 = ConfidenceXYMore06.filter(lambda row: row[2] > 0.8)\n",
    "ConfidenceXYMore08.take(10)"
   ]
  },
  {
   "cell_type": "code",
   "execution_count": 23,
   "metadata": {},
   "outputs": [
    {
     "data": {
      "text/plain": [
       "[('monex', 'kitco', 0.9333333333333333),\n",
       " ('pierpoint landing', 'free republic', 0.9090909090909091),\n",
       " ('cnn world headlines', 'international herald tribune', 0.9090909090909091),\n",
       " ('planters bank', 'suntrust bank', 1.0),\n",
       " ('bobhaworth', 'nycsubway', 0.9322033898305084),\n",
       " ('nancy', 'crankshaft', 0.9090909090909091)]"
      ]
     },
     "execution_count": 23,
     "metadata": {},
     "output_type": "execute_result"
    }
   ],
   "source": [
    "ConfidenceXYMore09 = ConfidenceXYMore08.filter(lambda row: row[2] > 0.9)\n",
    "ConfidenceXYMore09.take(10)"
   ]
  },
  {
   "cell_type": "code",
   "execution_count": 24,
   "metadata": {},
   "outputs": [],
   "source": [
    "ConfidenceXYMore06.repartition(1).saveAsTextFile(\"ConfidenceXYMore06\")\n",
    "ConfidenceXYMore08.repartition(1).saveAsTextFile(\"ConfidenceXYMore08\")\n",
    "ConfidenceXYMore09.repartition(1).saveAsTextFile(\"ConfidenceXYMore09\")\n",
    "ConfidenceXY.repartition(1).saveAsTextFile(\"ConfidenceXY\")"
   ]
  },
  {
   "cell_type": "code",
   "execution_count": null,
   "metadata": {},
   "outputs": [],
   "source": []
  }
 ],
 "metadata": {
  "kernelspec": {
   "display_name": "Python 2",
   "language": "python",
   "name": "python2"
  },
  "language_info": {
   "codemirror_mode": {
    "name": "ipython",
    "version": 2
   },
   "file_extension": ".py",
   "mimetype": "text/x-python",
   "name": "python",
   "nbconvert_exporter": "python",
   "pygments_lexer": "ipython2",
   "version": "2.7.17"
  }
 },
 "nbformat": 4,
 "nbformat_minor": 2
}
